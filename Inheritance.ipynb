{
 "cells": [
  {
   "cell_type": "markdown",
   "id": "70f14675",
   "metadata": {},
   "source": [
    "#                               Inheritance\n",
    "1.A, B and C are classes\n",
    "\n",
    "2. A is a super class. B is a sub class of A. C is a sub class of B. \n",
    "\n",
    "3. Create three methods in each class, 2 methods are specific to each class and third method (override method) should be in all    three Classes A, B and C\n",
    "\n",
    "4. Create a class with main method. Create an object for each class A, B and C in main method and call every method of each class using its own object/instance.\n",
    "\n",
    "5. Call an overridden method with super class reference to B and C class’s objects\n",
    "\n",
    "6. Runtime Polymorphism with Data Members/Instance variables, Repeat the above process only for data members"
   ]
  },
  {
   "cell_type": "code",
   "execution_count": 1,
   "id": "11a09ae6",
   "metadata": {},
   "outputs": [
    {
     "name": "stdout",
     "output_type": "stream",
     "text": [
      "Display Inside class A \n",
      "Print Inside class B\n",
      "Show Inside class C \n"
     ]
    }
   ],
   "source": [
    "class A():  \n",
    "    def display(dp):\n",
    "        print(\"Display Inside class A \")\n",
    " # class A show method    \n",
    "    def show(self):\n",
    "        print(\"Show Inside class A\")\n",
    "    \n",
    "# Inherited or Sub class (Note A in bracket) \n",
    "class B (A): \n",
    "    def print(pt):\n",
    "        print(\"Print Inside class B\")    \n",
    "    # class B show method\n",
    "    def show(self):\n",
    "        print(\"Show Inside class B\")\n",
    "    \n",
    "# Inherited or Sub class (Note B in bracket) \n",
    "class C (B): \n",
    "          \n",
    "    # class C show method\n",
    "    def show(self):\n",
    "        print(\"Show Inside class C \")         \n",
    "    \n",
    "# Driver code \n",
    "s = A()\n",
    "s.display()\n",
    "k= B()\n",
    "k.print()\n",
    "g = C()   \n",
    "g.show()"
   ]
  }
 ],
 "metadata": {
  "kernelspec": {
   "display_name": "Python 3 (ipykernel)",
   "language": "python",
   "name": "python3"
  },
  "language_info": {
   "codemirror_mode": {
    "name": "ipython",
    "version": 3
   },
   "file_extension": ".py",
   "mimetype": "text/x-python",
   "name": "python",
   "nbconvert_exporter": "python",
   "pygments_lexer": "ipython3",
   "version": "3.11.4"
  }
 },
 "nbformat": 4,
 "nbformat_minor": 5
}
