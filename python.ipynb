{
 "cells": [
  {
   "cell_type": "markdown",
   "id": "17ea4a10",
   "metadata": {},
   "source": [
    "   ***Python Basics***\n",
    "1. Write a program to print your name.\n",
    "2. Write a program for a Single line comment and multi-line comments\n",
    "3. Define variables for different Data Types int, Boolean, char, float, double and print on the \n",
    "Console.\n",
    "4. Define the local and Global variables with the same name and print both variables and \n",
    "understand the scope of the variables"
   ]
  },
  {
   "cell_type": "code",
   "execution_count": 1,
   "id": "f1087bf4",
   "metadata": {},
   "outputs": [
    {
     "name": "stdout",
     "output_type": "stream",
     "text": [
      "abhishek\n"
     ]
    }
   ],
   "source": [
    "# 1\n",
    "print(\"abhishek\")"
   ]
  },
  {
   "cell_type": "code",
   "execution_count": 5,
   "id": "2f2d8465",
   "metadata": {},
   "outputs": [
    {
     "name": "stdout",
     "output_type": "stream",
     "text": [
      "Hello, World!\n"
     ]
    }
   ],
   "source": [
    "#2\n",
    "# single line comment\n",
    "\"\"\"\n",
    "This is a multi-line comment\n",
    "that spans multiple lines.\n",
    "\"\"\"\n",
    "print(\"Hello, World!\")"
   ]
  },
  {
   "cell_type": "code",
   "execution_count": 10,
   "id": "93a2f4ba",
   "metadata": {},
   "outputs": [
    {
     "name": "stdout",
     "output_type": "stream",
     "text": [
      "<class 'int'> : 10\n",
      "<class 'bool'> : True\n",
      "<class 'str'> : A\n",
      "<class 'float'> : 10.5\n",
      "<class 'float'> : 20.5\n"
     ]
    }
   ],
   "source": [
    "#3\n",
    "# Define variables\n",
    "integer = 10\n",
    "boolean = True\n",
    "char = 'A'  \n",
    "float_var = 10.5\n",
    "double_var = 20.5  \n",
    "\n",
    "# Print variables and their types\n",
    "print(type(integer), \":\", integer)\n",
    "print(type(boolean), \":\", boolean)\n",
    "print(type(char), \":\", char)\n",
    "print(type(float_var), \":\", float_var)\n",
    "print(type(double_var), \":\", double_var)\n",
    "\n"
   ]
  },
  {
   "cell_type": "code",
   "execution_count": 14,
   "id": "2c4fbb6e",
   "metadata": {},
   "outputs": [
    {
     "name": "stdout",
     "output_type": "stream",
     "text": [
      "Outside the function, global variable: I am a global variable\n",
      "Inside the function, global variable: I am a global variable\n",
      "Inside the function, local variable: I am a local variable\n"
     ]
    }
   ],
   "source": [
    "#4\n",
    "# Global variable\n",
    "A = \"I am a global variable\"\n",
    "def my_function():\n",
    "    print(\"Inside the function, global variable:\", A)\n",
    "print(\"Outside the function, global variable:\", A)\n",
    "my_function()\n",
    "\n",
    "def my_function():\n",
    "    # Local variable\n",
    "    A = \"I am a local variable\"\n",
    "    print(\"Inside the function, local variable:\", A)\n",
    "my_function()\n"
   ]
  },
  {
   "cell_type": "markdown",
   "id": "b38a2320",
   "metadata": {},
   "source": [
    "   *Operators*\n",
    "\n",
    "1. Write a function for arithmetic operators(+,-,*,/)\n",
    "2. Write a method for increment and decrement operators(++, --)\n",
    "3. Write a program to find the two numbers equal or not.\n",
    "4. Program for relational operators (<,<==, >, >==)\n",
    "5. Print the smaller and larger number"
   ]
  },
  {
   "cell_type": "code",
   "execution_count": 15,
   "id": "b04d5891",
   "metadata": {},
   "outputs": [
    {
     "name": "stdout",
     "output_type": "stream",
     "text": [
      "Addition: 15, Subtraction: 5, Multiplication: 50, Division: 2.0\n",
      "Incremented: 11, Decremented: 9\n",
      "The two numbers are not equal.\n",
      "10 < 5: False\n",
      "10 <= 5: False\n",
      "10 > 5: True\n",
      "10 >= 5: True\n",
      "Smaller number: 5\n",
      "Larger number: 10\n"
     ]
    }
   ],
   "source": [
    "def arithmetic_operations(a, b):\n",
    "    addition = a + b\n",
    "    subtraction = a - b\n",
    "    multiplication = a * b\n",
    "    division = a / b if b != 0 else 'Division by zero error'\n",
    "    return addition, subtraction, multiplication, division\n",
    "\n",
    "def increment_decrement(value):\n",
    "    incremented_value = value + 1\n",
    "    decremented_value = value - 1\n",
    "    return incremented_value, decremented_value\n",
    "\n",
    "def check_equality(a, b):\n",
    "    return a == b\n",
    "\n",
    "def relational_operators(a, b):\n",
    "    less_than = a < b\n",
    "    less_than_or_equal = a <= b\n",
    "    greater_than = a > b\n",
    "    greater_than_or_equal = a >= b\n",
    "    return less_than, less_than_or_equal, greater_than, greater_than_or_equal\n",
    "\n",
    "def find_smaller_and_larger(a, b):\n",
    "    if a < b:\n",
    "        smaller = a\n",
    "        larger = b\n",
    "    else:\n",
    "        smaller = b\n",
    "        larger = a\n",
    "    return smaller, larger\n",
    "\n",
    "# Example usage\n",
    "a = 10\n",
    "b = 5\n",
    "\n",
    "# Arithmetic operations\n",
    "add, sub, mul, div = arithmetic_operations(a, b)\n",
    "print(f\"Addition: {add}, Subtraction: {sub}, Multiplication: {mul}, Division: {div}\")\n",
    "\n",
    "# Increment and Decrement\n",
    "inc, dec = increment_decrement(a)\n",
    "print(f\"Incremented: {inc}, Decremented: {dec}\")\n",
    "\n",
    "# Equality check\n",
    "if check_equality(a, b):\n",
    "    print(\"The two numbers are equal.\")\n",
    "else:\n",
    "    print(\"The two numbers are not equal.\")\n",
    "\n",
    "# Relational operators\n",
    "lt, lte, gt, gte = relational_operators(a, b)\n",
    "print(f\"{a} < {b}: {lt}\")\n",
    "print(f\"{a} <= {b}: {lte}\")\n",
    "print(f\"{a} > {b}: {gt}\")\n",
    "print(f\"{a} >= {b}: {gte}\")\n",
    "\n",
    "# Smaller and Larger number\n",
    "smaller, larger = find_smaller_and_larger(a, b)\n",
    "print(f\"Smaller number: {smaller}\")\n",
    "print(f\"Larger number: {larger}\")\n"
   ]
  },
  {
   "cell_type": "markdown",
   "id": "3b864099",
   "metadata": {},
   "source": [
    "   **Loops**\n",
    "1. Write a program to print “Bright IT Career” ten times using for loop\n",
    "2. Write a python program to print 1 to 20 numbers using the while loop.\n",
    "3. Program to equal operator and not equal operators\n",
    "4. Write a program to print the odd and even numbers.\n",
    "5. Write a program to print largest number among three numbers.\n",
    "6. Write a program to print even number between 10 and 20 using while\n",
    "7. Write a program to print 1 to 10 using the do-while loop statement.\n",
    "8. Write a program to find Armstrong number or not\n",
    "9. Write a program to find the prime or not.\n",
    "10. Write a program to palindrome or not.\n",
    "11. Program to check whether a number is EVEN or ODD using switch\n",
    "12. Print gender (Male/Female) program according to given M/F using switch"
   ]
  },
  {
   "cell_type": "code",
   "execution_count": 18,
   "id": "84cb50bd",
   "metadata": {},
   "outputs": [
    {
     "name": "stdout",
     "output_type": "stream",
     "text": [
      "Bright IT Career\n",
      "Bright IT Career\n",
      "Bright IT Career\n",
      "Bright IT Career\n",
      "Bright IT Career\n",
      "Bright IT Career\n",
      "Bright IT Career\n",
      "Bright IT Career\n",
      "Bright IT Career\n",
      "Bright IT Career\n"
     ]
    }
   ],
   "source": [
    "#1\n",
    "for i in range(10):\n",
    "    print(\"Bright IT Career\")"
   ]
  },
  {
   "cell_type": "code",
   "execution_count": 28,
   "id": "605fe38c",
   "metadata": {},
   "outputs": [
    {
     "name": "stdout",
     "output_type": "stream",
     "text": [
      "1 2 3 4 5 6 7 8 9 10 11 12 13 14 15 16 17 18 19 20 \n",
      "\n"
     ]
    }
   ],
   "source": [
    "#2\n",
    "i = 1\n",
    "while i <= 20:\n",
    "    print(i, end=\" \")\n",
    "    i += 1\n",
    "print(\"\\n\")\n"
   ]
  },
  {
   "cell_type": "code",
   "execution_count": 30,
   "id": "ab56adfe",
   "metadata": {},
   "outputs": [
    {
     "name": "stdout",
     "output_type": "stream",
     "text": [
      "Enter the first number: 45\n",
      "Enter the second number: 45\n",
      "a and b are equal\n",
      "Enter the first number: 45\n",
      "Enter the second number: 78\n",
      "a and b are not equal\n",
      "Enter the first number: 78\n",
      "Enter the second number: 57\n",
      "a and b are not equal\n"
     ]
    }
   ],
   "source": [
    "# 3\n",
    "for i in range(3):\n",
    "    a = int(input(\"Enter the first number: \"))\n",
    "    b = int(input(\"Enter the second number: \"))\n",
    "\n",
    "    if a == b:\n",
    "        print(\"a and b are equal\")\n",
    "    else:\n",
    "        print(\"a and b are not equal\")\n"
   ]
  },
  {
   "cell_type": "code",
   "execution_count": 37,
   "id": "e5ec754f",
   "metadata": {},
   "outputs": [
    {
     "name": "stdout",
     "output_type": "stream",
     "text": [
      "Even numbers: [2, 4, 6, 8, 10, 12, 14, 16, 18]\n",
      "Odd numbers: [1, 3, 5, 7, 9, 11, 13, 15, 17, 19]\n"
     ]
    }
   ],
   "source": [
    "#4\n",
    "odd_num = []\n",
    "even_num = []\n",
    "for i in range(1,20):\n",
    "    if i % 2 == 0:\n",
    "        even_num.append(i)\n",
    "    else:\n",
    "        odd_num.append(i)\n",
    "print(\"Even numbers:\", even_num)\n",
    "print(\"Odd numbers:\", odd_num)  "
   ]
  },
  {
   "cell_type": "code",
   "execution_count": 38,
   "id": "4e986845",
   "metadata": {},
   "outputs": [
    {
     "name": "stdout",
     "output_type": "stream",
     "text": [
      "Largest number is:  90\n"
     ]
    }
   ],
   "source": [
    "#5\n",
    "k = 40\n",
    "a = 50\n",
    "s = 90\n",
    "if k >= a and k >= s:\n",
    "    largest = k\n",
    "elif a >= k and a >= s:\n",
    "    largest = a\n",
    "else:\n",
    "    largest = s\n",
    "print(\"Largest number is: \",largest) "
   ]
  },
  {
   "cell_type": "code",
   "execution_count": 51,
   "id": "88c0f7f3",
   "metadata": {},
   "outputs": [
    {
     "name": "stdout",
     "output_type": "stream",
     "text": [
      "Even Numbers Between 10 to 20:  10 12 14 16 18 20 "
     ]
    }
   ],
   "source": [
    "#6\n",
    "a = 10\n",
    "b = 20\n",
    "print(\"Even Numbers Between 10 to 20: \",end=\" \")\n",
    "while a <= b:\n",
    "    if(a % 2 == 0):\n",
    "        print(\"{0}\".format(a),end=\" \")\n",
    "    a = a + 1\n",
    "#print()"
   ]
  },
  {
   "cell_type": "code",
   "execution_count": 54,
   "id": "42b5bab5",
   "metadata": {},
   "outputs": [
    {
     "name": "stdout",
     "output_type": "stream",
     "text": [
      "Print 1 to 10 using the do-while loop statement: 1 2 3 4 5 6 7 8 9 10 \n"
     ]
    }
   ],
   "source": [
    "#7\n",
    "a = 1\n",
    "print(\"Print 1 to 10 using the do-while loop statement:\",end=\" \")\n",
    "while True:\n",
    "    print(a,end=\" \")\n",
    "    a = a + 1\n",
    "    if(a > 10):\n",
    "        break \n",
    "print()"
   ]
  },
  {
   "cell_type": "code",
   "execution_count": 3,
   "id": "13c608ef",
   "metadata": {},
   "outputs": [
    {
     "name": "stdout",
     "output_type": "stream",
     "text": [
      "Enter a number: 124\n",
      "124 is not an Armstrong number.\n"
     ]
    }
   ],
   "source": [
    "def is_armstrong_number(number):\n",
    "    # Convert the number to a string to easily iterate over digits\n",
    "    digits = str(number)\n",
    "    # Calculate the number of digits (n)\n",
    "    num_digits = len(digits)\n",
    "    \n",
    "    # Initialize the sum\n",
    "    sum_of_powers = 0\n",
    "    \n",
    "    # Calculate the sum of each digit raised to the power of num_digits\n",
    "    for digit in digits:\n",
    "        sum_of_powers += int(digit) ** num_digits\n",
    "    \n",
    "    # Check if the sum of powers is equal to the original number\n",
    "    return sum_of_powers == number\n",
    "\n",
    "# Input number\n",
    "number = int(input(\"Enter a number: \"))\n",
    "\n",
    "# Check if the number is an Armstrong number\n",
    "if is_armstrong_number(number):\n",
    "    print(f\"{number} is an Armstrong number.\")\n",
    "else:\n",
    "    print(f\"{number} is not an Armstrong number.\")\n"
   ]
  },
  {
   "cell_type": "code",
   "execution_count": 1,
   "id": "177b5aa3",
   "metadata": {},
   "outputs": [
    {
     "name": "stdout",
     "output_type": "stream",
     "text": [
      "Enter number to check palindrome or not:23\n",
      "The number isn't a palindrome!\n"
     ]
    }
   ],
   "source": [
    "# 8\n",
    "n = int(input(\"Enter number to check palindrome or not:\"))\n",
    "temp = n\n",
    "rev = 0\n",
    "while(n > 0):\n",
    "    dig = n % 10\n",
    "    rev = rev * 10 + dig\n",
    "    n = n // 10\n",
    "if(temp == rev):\n",
    "    print(\"The number is a palindrome!\")\n",
    "else:\n",
    "    print(\"The number isn't a palindrome!\")"
   ]
  },
  {
   "cell_type": "code",
   "execution_count": 6,
   "id": "5b7e452d",
   "metadata": {},
   "outputs": [
    {
     "name": "stdout",
     "output_type": "stream",
     "text": [
      "Enter the number25\n",
      "Given number is odd number\n"
     ]
    }
   ],
   "source": [
    "#9\n",
    "num= int(input(\"Enter the number\"))\n",
    "\n",
    "def num_checker(num):\n",
    "    if num%2==0:\n",
    "        print(\"Given number is even number\")\n",
    "    else:\n",
    "        print(\"Given number is odd number\")\n",
    "num_checker(num)"
   ]
  },
  {
   "cell_type": "code",
   "execution_count": 9,
   "id": "392a7448",
   "metadata": {},
   "outputs": [
    {
     "name": "stdout",
     "output_type": "stream",
     "text": [
      "Enter Number to check is EVEN or ODD: 25\n",
      "25 is Odd \n"
     ]
    }
   ],
   "source": [
    "a = int(input('Enter Number to check is EVEN or ODD: '))\n",
    "if a % 2 == 0:\n",
    "    print(\"{0} is Even \".format(a))\n",
    "else:\n",
    "    print(\"{0} is Odd \".format(a)) "
   ]
  },
  {
   "cell_type": "markdown",
   "id": "9f00097d",
   "metadata": {},
   "source": [
    "   **Operators**\n",
    "1. Write a function for arithmetic operators(+,-,*,/)\n",
    "2. Write a method for increment and decrement operators(++, --)\n",
    "3. Write a program to find the two numbers equal or not.\n",
    "4. Program for relational operators (<,<==, >, >==)\n",
    "5. Print the smaller and larger numbe"
   ]
  },
  {
   "cell_type": "code",
   "execution_count": 10,
   "id": "638804d3",
   "metadata": {},
   "outputs": [
    {
     "name": "stdout",
     "output_type": "stream",
     "text": [
      "Enter first number: 25\n",
      "Enter second number: 26\n",
      "The sum of 25 and 26 is 51.0\n",
      "The subtraction of 25 and 26 is -1.0\n",
      "The multiplication of 25 and 26 is 650.0\n",
      "The division of 25 and 26 is 0.9615384615384616\n"
     ]
    }
   ],
   "source": [
    "#1\n",
    "num1 = input('Enter first number: ')  \n",
    "num2 = input('Enter second number: ')  \n",
    "  \n",
    "# Add two numbers  \n",
    "sum = float(num1) + float(num2)  \n",
    "# Subtract two numbers  \n",
    "min = float(num1) - float(num2)  \n",
    "# Multiply two numbers  \n",
    "mul = float(num1) * float(num2)  \n",
    "#Divide two numbers  \n",
    "div = float(num1) / float(num2)  \n",
    "# Display the sum  \n",
    "print('The sum of {0} and {1} is {2}'.format(num1, num2, sum))  \n",
    "# Display the subtraction  \n",
    "print('The subtraction of {0} and {1} is {2}'.format(num1, num2, min))  \n",
    "# Display the multiplication  \n",
    "print('The multiplication of {0} and {1} is {2}'.format(num1, num2, mul))  \n",
    "# Display the division  \n",
    "print('The division of {0} and {1} is {2}'.format(num1, num2, div))  "
   ]
  },
  {
   "cell_type": "code",
   "execution_count": 11,
   "id": "bfa9f61d",
   "metadata": {},
   "outputs": [
    {
     "name": "stdout",
     "output_type": "stream",
     "text": [
      "The value of a is  2\n",
      "INCREMENTED FOR LOOP\n",
      "0\n",
      "1\n",
      "2\n",
      "3\n",
      "4\n",
      "\n",
      "DECREMENTED FOR LOOP\n",
      "4\n",
      "3\n",
      "2\n",
      "1\n",
      "0\n"
     ]
    }
   ],
   "source": [
    "#2\n",
    "a = 0\n",
    "a += 1\n",
    "a = a+1\n",
    "print('The value of a is ',a)\n",
    "# Use of increment operator, here start = 1,step = 1(by default) and stop = 5 \n",
    "print(\"INCREMENTED FOR LOOP\")\n",
    "for i in range(0, 5):\n",
    "   print(i)\n",
    "#Use of decrement operator, here start = 5, step = -1 and  stop = -1\n",
    "print(\"\\nDECREMENTED FOR LOOP\")\n",
    "for i in range(4, -1, -1):\n",
    "   print(i)"
   ]
  },
  {
   "cell_type": "code",
   "execution_count": 12,
   "id": "5a7db512",
   "metadata": {},
   "outputs": [
    {
     "name": "stdout",
     "output_type": "stream",
     "text": [
      "Enter first number: 35\n",
      "Enter second number: 69\n",
      "Both numbers are not equal\n"
     ]
    }
   ],
   "source": [
    "#3\n",
    "a = input('Enter first number: ')\n",
    "b = input('Enter second number: ')\n",
    "if a==b:\n",
    "    print(\"Both numbers are equal\")\n",
    "else:\n",
    "    print(\"Both numbers are not equal\")"
   ]
  },
  {
   "cell_type": "code",
   "execution_count": 13,
   "id": "a1a66384",
   "metadata": {},
   "outputs": [
    {
     "name": "stdout",
     "output_type": "stream",
     "text": [
      "True\n",
      "True\n",
      "False\n",
      "False\n",
      "False\n",
      "True\n"
     ]
    }
   ],
   "source": [
    "#4\n",
    "a = 4\n",
    "b = 5\n",
    "print(a < b)  #This operator(<) returns True if the left operand is less than the right operand.\n",
    "print(a <= b) #This operator(<=)returns True if the left operand is less than or equal to the right operand.\n",
    "print(a > b)  #This operator(>) returns True if the left operand is greater than the right operand.\n",
    "print(a >= b) #This operator(>=)returns True if the left operand is greater than or equal to the right operand.   \n",
    "print(a == b) #This operator(==)returns True if both the operands are equal i.e. if both the left and the right operand are equal to each other.\n",
    "print(a != b)"
   ]
  },
  {
   "cell_type": "code",
   "execution_count": 14,
   "id": "78097ae9",
   "metadata": {},
   "outputs": [
    {
     "name": "stdout",
     "output_type": "stream",
     "text": [
      "Enter first number: 25\n",
      "Enter second number: 69\n",
      "69.0  is greater \n",
      "25.0 is smaller2 \n"
     ]
    }
   ],
   "source": [
    "#5\n",
    "a = float(input('Enter first number: '))\n",
    "b = float(input('Enter second number: '))\n",
    "#To print larger number\n",
    "if a > b: \n",
    "     print(a, \"is greater \")\n",
    "else:\n",
    "    print(b, \" is greater \")\n",
    "#To print samller number\n",
    "if a < b:\n",
    "     print(a, \"is smaller2 \")\n",
    "else:\n",
    "    print(b, \" is smaller \")   "
   ]
  },
  {
   "cell_type": "markdown",
   "id": "a5dfd5e1",
   "metadata": {},
   "source": [
    "   **Arrays**\n",
    "1. Write a function to add integer values of an array\n",
    "2. Write a function to calculate the average value of an array of integers\n",
    "3. Write a program to find the index of an array element\n",
    "4. Write a function to test if array contains a specific value\n",
    "5. Write a function to remove a specific element from an array\n",
    "6. Write a function to copy an array to another array\n",
    "7. Write a function to insert an element at a specific position in the array\n",
    "8. Write a function to find the minimum and maximum value of an array\n",
    "9. Write a function to reverse an array of integer values\n",
    "10. Write a function to find the duplicate values of an array\n",
    "11. Write a program to find the common values between two arrays\n",
    "12. Write a method to remove duplicate elements from an array\n",
    "13. Write a method to find the second largest number in an array\n",
    "14. Write a method to find the second largest number in an array\n",
    "15. Write a method to find number of even number and odd numbers in an array\n",
    "16. Write a function to get the difference of largest and smallest value\n",
    "17. Write a method to verify if the array contains two specified elements(12,23)\n",
    "18. Write a program to remove the duplicate elements and return the new array"
   ]
  },
  {
   "cell_type": "code",
   "execution_count": 4,
   "id": "5540b7ea",
   "metadata": {},
   "outputs": [
    {
     "name": "stdout",
     "output_type": "stream",
     "text": [
      "Sum of all integer values in array:  100\n",
      "Avg of all integer values in array:  25.0\n"
     ]
    }
   ],
   "source": [
    "#1 & 2\n",
    "arr = [10,20,30,40]\n",
    "sum = 0\n",
    "for i in range(0,len(arr)):\n",
    "    sum = sum + arr[i]\n",
    "print(\"Sum of all integer values in array: \",sum)\n",
    "print(\"Avg of all integer values in array: \",sum/len(arr))"
   ]
  },
  {
   "cell_type": "code",
   "execution_count": 5,
   "id": "10696419",
   "metadata": {},
   "outputs": [
    {
     "name": "stdout",
     "output_type": "stream",
     "text": [
      "Index of 3:  1\n"
     ]
    }
   ],
   "source": [
    "#3\n",
    "arr = [1,3,5,3,1,2,6,5,3,8,6,9]\n",
    "#printing element at specific index in array\n",
    "index = arr.index(3)\n",
    "print(\"Index of 3: \",index)"
   ]
  },
  {
   "cell_type": "code",
   "execution_count": 7,
   "id": "078de3c4",
   "metadata": {},
   "outputs": [
    {
     "name": "stdout",
     "output_type": "stream",
     "text": [
      "Does the array contain the value? True\n",
      "Does the array contain the value? False\n"
     ]
    }
   ],
   "source": [
    "#4\n",
    "def contains_value(arr, value):\n",
    "    \n",
    "    return value in arr\n",
    "\n",
    "\n",
    "arr = [1, 2, 3, 4, 5]\n",
    "value_to_check = 3\n",
    "print(\"Does the array contain the value?\", contains_value(arr, value_to_check))\n",
    "\n",
    "value_to_check = 6\n",
    "print(\"Does the array contain the value?\", contains_value(arr, value_to_check))\n"
   ]
  },
  {
   "cell_type": "code",
   "execution_count": 9,
   "id": "b7636c12",
   "metadata": {},
   "outputs": [
    {
     "name": "stdout",
     "output_type": "stream",
     "text": [
      "[55, 0, 15, 19, 5, 4]\n"
     ]
    }
   ],
   "source": [
    "#5\n",
    "arr = [44,55,0,15,19,5,4]\n",
    "\n",
    "#removing a specific element from an array\n",
    "arr.remove(44)\n",
    "print(arr)"
   ]
  },
  {
   "cell_type": "code",
   "execution_count": 11,
   "id": "72cec4e8",
   "metadata": {},
   "outputs": [
    {
     "name": "stdout",
     "output_type": "stream",
     "text": [
      "['k', 'a', 's', 'h', 'i']\n",
      "['k', 'a', 's', 'h', 'i']\n"
     ]
    }
   ],
   "source": [
    "#6\n",
    "#Initialize array\n",
    "arr = ['k','a','s','h','i']\n",
    "arr1 = [] #creating empy array\n",
    "arr1 = arr.copy() #copying/duplicating arr in arr1\n",
    "print(arr1)\n",
    "print(arr)"
   ]
  },
  {
   "cell_type": "code",
   "execution_count": 1,
   "id": "cf23f641",
   "metadata": {},
   "outputs": [
    {
     "name": "stdout",
     "output_type": "stream",
     "text": [
      "[101, 202, 303, 404, 505, 606, 707, 808, 909]\n"
     ]
    }
   ],
   "source": [
    "# 7 Write a function to insert an element at a specific position in the array.\n",
    "arr = [101,303,404,505,606,707,808,909]\n",
    "arr.insert(1,202) #insert 202 at index 1 in arr\n",
    "print(arr)"
   ]
  },
  {
   "cell_type": "code",
   "execution_count": 17,
   "id": "ea0274a4",
   "metadata": {},
   "outputs": [
    {
     "name": "stdout",
     "output_type": "stream",
     "text": [
      "Minimum value: 3, Maximum value: 3\n"
     ]
    }
   ],
   "source": [
    "#8\n",
    "array = [3, 1, 4, 1, 5, 9, 2, 6, 5, 3, 5]\n",
    "def max_min_checker(array):\n",
    "    for i in array:\n",
    "        if i < array[i]:\n",
    "            min_value=i\n",
    "        if i > array[i]:\n",
    "            max_value = i\n",
    "    return max_value,min_value\n",
    "print(f\"Minimum value: {min_value}, Maximum value: {max_value}\")"
   ]
  },
  {
   "cell_type": "code",
   "execution_count": 18,
   "id": "a93dbcd6",
   "metadata": {},
   "outputs": [
    {
     "name": "stdout",
     "output_type": "stream",
     "text": [
      "[5, 6, 7, 8, 9]\n"
     ]
    }
   ],
   "source": [
    "#9\n",
    "arr = [9,8,7,6,5]\n",
    "arr.reverse() #to reverse an array of integer values\n",
    "print(arr)"
   ]
  },
  {
   "cell_type": "code",
   "execution_count": 21,
   "id": "ed1cc982",
   "metadata": {},
   "outputs": [
    {
     "name": "stdout",
     "output_type": "stream",
     "text": [
      "Duplicate element in given array: 11\n"
     ]
    }
   ],
   "source": [
    "#10\n",
    "arr = [21,11,31,13,11]\n",
    "#Using loop to check duplicate values in array\n",
    "for i in range(0,len(arr)):\n",
    "    for k in range(i+1 ,len(arr)):\n",
    "        if arr[i] == arr[k]:\n",
    "            print(\"Duplicate element in given array:\",arr[k])"
   ]
  },
  {
   "cell_type": "code",
   "execution_count": 22,
   "id": "5b13ac88",
   "metadata": {},
   "outputs": [
    {
     "name": "stdout",
     "output_type": "stream",
     "text": [
      "Common values in given arrays: {'h', 's'}\n"
     ]
    }
   ],
   "source": [
    "#11\n",
    "arr = ['k','a','s','h','i']\n",
    "arr1 = ['s','h','g']\n",
    "print(\"Common values in given arrays:\",set(arr).intersection(arr1))"
   ]
  },
  {
   "cell_type": "code",
   "execution_count": 23,
   "id": "0569e91c",
   "metadata": {},
   "outputs": [
    {
     "name": "stdout",
     "output_type": "stream",
     "text": [
      "[11, 22, 33, 44, 55]\n"
     ]
    }
   ],
   "source": [
    "#12\n",
    "arr = [11,22,33,11,44,55]\n",
    "finalarr = [] #empty array\n",
    "#Using loop to remove duplicated elements\n",
    "for i in arr:\n",
    "    if i not in finalarr:\n",
    "        finalarr.append(i)\n",
    "print(finalarr)"
   ]
  },
  {
   "cell_type": "code",
   "execution_count": 28,
   "id": "85ab035d",
   "metadata": {},
   "outputs": [
    {
     "data": {
      "text/plain": [
       "44"
      ]
     },
     "execution_count": 28,
     "metadata": {},
     "output_type": "execute_result"
    }
   ],
   "source": [
    "#13\n",
    "arr = [11,22,33,11,44,55]\n",
    "arr.sort\n",
    "arr[-2]"
   ]
  },
  {
   "cell_type": "code",
   "execution_count": 30,
   "id": "2c8f55b9",
   "metadata": {},
   "outputs": [
    {
     "name": "stdout",
     "output_type": "stream",
     "text": [
      "Number of even numbers: 3\n",
      "Number of odd numbers: 8\n"
     ]
    }
   ],
   "source": [
    "#13\n",
    "def count_even_odd(arr):\n",
    "    even_count = 0\n",
    "    odd_count = 0\n",
    "\n",
    "    for num in arr:\n",
    "        if num % 2 == 0:\n",
    "            even_count += 1\n",
    "        else:\n",
    "            odd_count += 1\n",
    "\n",
    "    return even_count, odd_count\n",
    "array = [3, 1, 4, 1, 5, 9, 2, 6, 5, 3, 5]\n",
    "even_count, odd_count = count_even_odd(array)\n",
    "print(f\"Number of even numbers: {even_count}\")\n",
    "print(f\"Number of odd numbers: {odd_count}\")\n"
   ]
  },
  {
   "cell_type": "code",
   "execution_count": 34,
   "id": "441dabfb",
   "metadata": {},
   "outputs": [
    {
     "data": {
      "text/plain": [
       "44"
      ]
     },
     "execution_count": 34,
     "metadata": {},
     "output_type": "execute_result"
    }
   ],
   "source": [
    "#16 Write a function to get the difference of largest and smallest value\n",
    "arr = [11,22,33,11,44,55]\n",
    "arr.sort()\n",
    "arr1=arr[-1]-arr[0]\n",
    "arr1"
   ]
  },
  {
   "cell_type": "code",
   "execution_count": 36,
   "id": "c995abce",
   "metadata": {},
   "outputs": [
    {
     "name": "stdout",
     "output_type": "stream",
     "text": [
      "Exist in array\n",
      "Exist in array\n"
     ]
    }
   ],
   "source": [
    "#17 Write a method to verify if the array contains two specified elements(12,23)\n",
    "arr = [1,12,19,23,33,54]\n",
    "for i in arr:\n",
    "    if i == 12:\n",
    "        print(\"Exist in array\")\n",
    "    if i == 23:\n",
    "        print(\"Exist in array\")"
   ]
  },
  {
   "cell_type": "code",
   "execution_count": 38,
   "id": "3ec43026",
   "metadata": {},
   "outputs": [
    {
     "name": "stdout",
     "output_type": "stream",
     "text": [
      "9\n",
      "12\n",
      "12\n",
      "15\n",
      "12\n"
     ]
    }
   ],
   "source": [
    "class Python:\n",
    "# Access through class    \n",
    " staticVariable = 9 \n",
    "print(Python.staticVariable)\n",
    "\n",
    "#Change within an class\n",
    "Python.staticVariable = 12\n",
    "print(Python.staticVariable) # Gives 12\n",
    "\n",
    "#Access through an instance\n",
    "instance = Python()\n",
    "print(instance.staticVariable) # Gives 12\n",
    "\n",
    "#Change within an instance\n",
    "instance.staticVariable = 15\n",
    "print(instance.staticVariable) # Gives 15\n",
    "print(Python.staticVariable) #Gives 12"
   ]
  },
  {
   "cell_type": "markdown",
   "id": "e714d51a",
   "metadata": {},
   "source": [
    "   *Strings*\n",
    "1. Different ways creating a string\n",
    "2. Concatenating two strings using + operator\n",
    "3. Finding the length of the string\n",
    "4. Extract a string using Substring\n",
    "5. Searching in strings using index()\n",
    "6. Matching a String Against a Regular Expression With matches()\n",
    "7. Comparing strings\n",
    "8. startsWith(), endsWith() and compareTo()\n",
    "9. Trimming strings with strip()\n",
    "10. Replacing characters in strings with replace()\n",
    "11. Splitting strings with split()\n",
    "12. Converting integer objects to Strings\n",
    "13. Converting to uppercase and lowercase"
   ]
  },
  {
   "cell_type": "code",
   "execution_count": 41,
   "id": "856fbc42",
   "metadata": {},
   "outputs": [],
   "source": [
    "#1. Different ways creating a string\n",
    "# Using single quotes\n",
    "str1 = 'Hello, world!'\n",
    "# Using double quotes\n",
    "str2 = \"Hello, world!\"\n",
    "# Using triple quotes (for multi-line strings)\n",
    "str3 = \"\"\"Hello, world!\"\"\"\n",
    "# Using the str() function\n",
    "str4 = str(123)  # Converts integer to string"
   ]
  },
  {
   "cell_type": "code",
   "execution_count": 44,
   "id": "57302dc5",
   "metadata": {},
   "outputs": [
    {
     "name": "stdout",
     "output_type": "stream",
     "text": [
      "Hello, world!Hello, world!\n"
     ]
    }
   ],
   "source": [
    "#2 2. Concatenating two strings using + operator\n",
    "str1 = 'Hello, world!'\n",
    "str2 = \"Hello, world!\"\n",
    "print(str1+str2)"
   ]
  },
  {
   "cell_type": "code",
   "execution_count": 46,
   "id": "5023bd68",
   "metadata": {},
   "outputs": [
    {
     "data": {
      "text/plain": [
       "13"
      ]
     },
     "execution_count": 46,
     "metadata": {},
     "output_type": "execute_result"
    }
   ],
   "source": [
    "#3 3. Finding the length of the string\n",
    "len(str1)\n"
   ]
  },
  {
   "cell_type": "code",
   "execution_count": 47,
   "id": "1b99ae52",
   "metadata": {},
   "outputs": [
    {
     "data": {
      "text/plain": [
       "'world'"
      ]
     },
     "execution_count": 47,
     "metadata": {},
     "output_type": "execute_result"
    }
   ],
   "source": [
    "#4 4. Extract a string using Substring\n",
    "str1[7:12]  # Extracts 'world'"
   ]
  },
  {
   "cell_type": "code",
   "execution_count": 51,
   "id": "47255e97",
   "metadata": {},
   "outputs": [
    {
     "data": {
      "text/plain": [
       "7"
      ]
     },
     "execution_count": 51,
     "metadata": {},
     "output_type": "execute_result"
    }
   ],
   "source": [
    "#5 5. Searching in strings using index()\n",
    "str1.index('world')  # Finds the start index of 'world'"
   ]
  },
  {
   "cell_type": "code",
   "execution_count": 52,
   "id": "e8350a48",
   "metadata": {},
   "outputs": [
    {
     "name": "stdout",
     "output_type": "stream",
     "text": [
      "Match found\n"
     ]
    }
   ],
   "source": [
    "#6 Matching a String Against a Regular Expression With matches()\n",
    "import re\n",
    "\n",
    "pattern = re.compile(r'Hello')\n",
    "match = pattern.match('Hello, world!')\n",
    "if match:\n",
    "    print(\"Match found\")\n",
    "else:\n",
    "    print(\"No match\")\n"
   ]
  },
  {
   "cell_type": "code",
   "execution_count": 53,
   "id": "a00482e9",
   "metadata": {},
   "outputs": [
    {
     "name": "stdout",
     "output_type": "stream",
     "text": [
      "False\n",
      "True\n",
      "False\n",
      "True\n",
      "\n"
     ]
    }
   ],
   "source": [
    "# 7. Comparing strings\n",
    "# Comparing strings.\n",
    "str8 = 'Itachi uchiha'\n",
    "str1 = 'Madara uchiha'\n",
    "str2 = str8\n",
    "print(str8 == str1)\n",
    "print(str8 == str2)\n",
    "print(str1 == str2)\n",
    "print(str8 != str1)\n",
    "print()"
   ]
  },
  {
   "cell_type": "code",
   "execution_count": 54,
   "id": "ad11d1f1",
   "metadata": {},
   "outputs": [
    {
     "name": "stdout",
     "output_type": "stream",
     "text": [
      "True\n",
      "True\n",
      "\n"
     ]
    }
   ],
   "source": [
    "# 8. startsWith(), endsWith() and compareTo()\n",
    "string = 'Minato Namikaze'\n",
    "print(string.startswith(\"Minato\"))\n",
    "print(string.endswith(\"kaze\"))\n",
    "print()"
   ]
  },
  {
   "cell_type": "code",
   "execution_count": 70,
   "id": "65c85951",
   "metadata": {},
   "outputs": [
    {
     "name": "stdout",
     "output_type": "stream",
     "text": [
      "adara uchiha\n"
     ]
    }
   ],
   "source": [
    "# 9. Trimming strings with strip()\n",
    "str1 = 'Madara uchiha'\n",
    "print(str1.strip(\"M\"))"
   ]
  },
  {
   "cell_type": "code",
   "execution_count": 10,
   "id": "59c413ac",
   "metadata": {},
   "outputs": [
    {
     "name": "stdout",
     "output_type": "stream",
     "text": [
      "Hello World\n"
     ]
    }
   ],
   "source": [
    "# 10. Replacing characters in strings with replace()\n",
    "string = 'Hi World'\n",
    "print(string.replace(\"Hi\",\"Hello\"))"
   ]
  },
  {
   "cell_type": "code",
   "execution_count": 11,
   "id": "99fd5404",
   "metadata": {},
   "outputs": [
    {
     "name": "stdout",
     "output_type": "stream",
     "text": [
      "['hi', 'hello', 'bye']\n",
      "\n"
     ]
    }
   ],
   "source": [
    "# 11. Splitting strings with split()\n",
    "str = 'hi-hello-bye'\n",
    "print(str.split(\"-\"))\n",
    "print()"
   ]
  },
  {
   "cell_type": "code",
   "execution_count": 22,
   "id": "1ee2a192",
   "metadata": {},
   "outputs": [
    {
     "ename": "TypeError",
     "evalue": "'str' object is not callable",
     "output_type": "error",
     "traceback": [
      "\u001b[1;31m---------------------------------------------------------------------------\u001b[0m",
      "\u001b[1;31mTypeError\u001b[0m                                 Traceback (most recent call last)",
      "Cell \u001b[1;32mIn[22], line 3\u001b[0m\n\u001b[0;32m      1\u001b[0m \u001b[38;5;66;03m# 12. Converting integer objects to Strings\u001b[39;00m\n\u001b[0;32m      2\u001b[0m numb \u001b[38;5;241m=\u001b[39m \u001b[38;5;241m10\u001b[39m\n\u001b[1;32m----> 3\u001b[0m num\u001b[38;5;241m=\u001b[39m\u001b[38;5;28mstr\u001b[39m(numb)\n",
      "\u001b[1;31mTypeError\u001b[0m: 'str' object is not callable"
     ]
    }
   ],
   "source": [
    "# 12. Converting integer objects to Strings\n",
    "numb = 10\n",
    "num=str(numb)\n",
    "# it is a immutable data type,hence we can not change once its created "
   ]
  },
  {
   "cell_type": "code",
   "execution_count": 23,
   "id": "98621c65",
   "metadata": {},
   "outputs": [
    {
     "name": "stdout",
     "output_type": "stream",
     "text": [
      "HI-HELLO-BYE\n",
      "hi-hello-bye\n"
     ]
    }
   ],
   "source": [
    "# 13. Converting to uppercase and lowercase\n",
    "str = 'hi-hello-bye'\n",
    "print(str.upper())\n",
    "print(str.lower())"
   ]
  },
  {
   "cell_type": "code",
   "execution_count": null,
   "id": "e2b3c67d",
   "metadata": {},
   "outputs": [],
   "source": []
  }
 ],
 "metadata": {
  "kernelspec": {
   "display_name": "Python 3 (ipykernel)",
   "language": "python",
   "name": "python3"
  },
  "language_info": {
   "codemirror_mode": {
    "name": "ipython",
    "version": 3
   },
   "file_extension": ".py",
   "mimetype": "text/x-python",
   "name": "python",
   "nbconvert_exporter": "python",
   "pygments_lexer": "ipython3",
   "version": "3.11.4"
  }
 },
 "nbformat": 4,
 "nbformat_minor": 5
}
