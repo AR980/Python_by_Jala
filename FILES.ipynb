{
 "cells": [
  {
   "cell_type": "markdown",
   "id": "f9c3c76e",
   "metadata": {},
   "source": [
    "# FILES\n",
    "1. Write a program to read text file\n",
    "2. Write a program to write text to .txt file using InputStream\n",
    "3. Write a program to read a file stream\n",
    "4. Write a program to read a file stream supports random access\n",
    "5. Write a program to read a file a just to a particular index using seek()\n",
    "6. Write a program to check whether a file is having read access and write access permissions"
   ]
  },
  {
   "cell_type": "code",
   "execution_count": 27,
   "id": "e152878c",
   "metadata": {},
   "outputs": [
    {
     "name": "stdout",
     "output_type": "stream",
     "text": [
      "Python\n",
      "\n",
      "\n",
      "Python\n",
      "\n"
     ]
    }
   ],
   "source": [
    "\n",
    "\n",
    "\n",
    "file1 = open(\"exm.txt\",\"r\")\n",
    "data = file1.read()\n",
    "print(data)\n",
    "print()\n",
    "\n",
    "file2 = open(\"exm.txt\",\"w\")\n",
    "str1 = 'Python'\n",
    "file2.write(str1)\n",
    "print()\n",
    "\n",
    "file3 = open(\"exm.txt\",\"r+\")\n",
    "print(file3.readline(11))\n",
    "print()"
   ]
  },
  {
   "cell_type": "code",
   "execution_count": 28,
   "id": "a58525a1",
   "metadata": {},
   "outputs": [
    {
     "name": "stdout",
     "output_type": "stream",
     "text": [
      "Python\n"
     ]
    }
   ],
   "source": [
    "# Reading a text file\n",
    "def read_text_file(file_path):\n",
    "    with open(file_path, 'r') as file:\n",
    "        content = file.read()\n",
    "    return content\n",
    "\n",
    "# Example usage\n",
    "file_path = 'exm.txt'\n",
    "print(read_text_file(file_path))\n"
   ]
  }
 ],
 "metadata": {
  "kernelspec": {
   "display_name": "Python 3 (ipykernel)",
   "language": "python",
   "name": "python3"
  },
  "language_info": {
   "codemirror_mode": {
    "name": "ipython",
    "version": 3
   },
   "file_extension": ".py",
   "mimetype": "text/x-python",
   "name": "python",
   "nbconvert_exporter": "python",
   "pygments_lexer": "ipython3",
   "version": "3.11.4"
  }
 },
 "nbformat": 4,
 "nbformat_minor": 5
}
