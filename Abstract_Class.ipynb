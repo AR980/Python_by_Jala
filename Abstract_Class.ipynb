{
 "cells": [
  {
   "cell_type": "markdown",
   "id": "b3cc0623",
   "metadata": {},
   "source": [
    "# Abstract Class\n",
    "1. Create an abstract class with abstract and non-abstract methods.\n",
    "2. Create a sub class for an abstract class. Create an object in the child class for the \n",
    "abstract class and access the non-abstract methods\n",
    "3. Create an instance for the child class in child class and call abstract methods\n",
    "4. Create an instance for the child class in child class and call non-abstract methods"
   ]
  },
  {
   "cell_type": "code",
   "execution_count": 1,
   "id": "39735698",
   "metadata": {},
   "outputs": [
    {
     "name": "stdout",
     "output_type": "stream",
     "text": [
      "Triangle: I have 3 sides\n",
      "Quadrilateral: I have 4 sides\n",
      "Pentagon: I have 5 sides\n",
      "Hexagon: I have 6 sides\n"
     ]
    }
   ],
   "source": [
    "from abc import ABC, abstractmethod\n",
    " \n",
    "class Polygon(ABC): #base class / super class\n",
    " \n",
    "    @abstractmethod\n",
    "    def noofsides(self):\n",
    "        pass\n",
    " \n",
    "class Triangle(Polygon): #subclass\n",
    " \n",
    "    # overriding abstract method\n",
    "    def noofsides(self):\n",
    "        print(\"Triangle: I have 3 sides\")\n",
    " \n",
    "class Pentagon(Polygon): #subclass\n",
    " \n",
    "    # overriding abstract method\n",
    "    def noofsides(self):\n",
    "        print(\"Pentagon: I have 5 sides\")\n",
    " \n",
    "class Hexagon(Polygon): #subclass\n",
    " \n",
    "    # overriding abstract method\n",
    "    def noofsides(self):\n",
    "        print(\"Hexagon: I have 6 sides\")\n",
    " \n",
    "class Quadrilateral(Polygon): #subclass\n",
    " \n",
    "    # overriding abstract method\n",
    "    def noofsides(self):\n",
    "        print(\"Quadrilateral: I have 4 sides\")\n",
    " \n",
    "# Driver code\n",
    "# Creating the objects to call the abstract method.\n",
    "R = Triangle()\n",
    "R.noofsides()\n",
    " \n",
    "K = Quadrilateral()\n",
    "K.noofsides()\n",
    " \n",
    "R = Pentagon()\n",
    "R.noofsides()\n",
    " \n",
    "K = Hexagon()\n",
    "K.noofsides()\n"
   ]
  }
 ],
 "metadata": {
  "kernelspec": {
   "display_name": "Python 3 (ipykernel)",
   "language": "python",
   "name": "python3"
  },
  "language_info": {
   "codemirror_mode": {
    "name": "ipython",
    "version": 3
   },
   "file_extension": ".py",
   "mimetype": "text/x-python",
   "name": "python",
   "nbconvert_exporter": "python",
   "pygments_lexer": "ipython3",
   "version": "3.11.4"
  }
 },
 "nbformat": 4,
 "nbformat_minor": 5
}
